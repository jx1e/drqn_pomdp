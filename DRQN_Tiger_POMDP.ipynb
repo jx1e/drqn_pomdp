{
  "nbformat": 4,
  "nbformat_minor": 0,
  "metadata": {
    "colab": {
      "name": "DRQN_Tiger_POMDP.ipynb",
      "provenance": [],
      "collapsed_sections": [],
      "include_colab_link": true
    },
    "kernelspec": {
      "name": "python3",
      "display_name": "Python 3"
    },
    "language_info": {
      "name": "python"
    }
  },
  "cells": [
    {
      "cell_type": "markdown",
      "metadata": {
        "id": "view-in-github",
        "colab_type": "text"
      },
      "source": [
        "<a href=\"https://colab.research.google.com/github/jx1e/drqn_pomdp/blob/main/DRQN_Tiger_POMDP.ipynb\" target=\"_parent\"><img src=\"https://colab.research.google.com/assets/colab-badge.svg\" alt=\"Open In Colab\"/></a>"
      ]
    },
    {
      "cell_type": "markdown",
      "metadata": {
        "id": "ske5P6yL16mA"
      },
      "source": [
        "# DRQN for the Tiger POMDP"
      ]
    },
    {
      "cell_type": "markdown",
      "metadata": {
        "id": "bPymihNs2Fyn"
      },
      "source": [
        "In reinforcement learning, an agent acting in an environment may be modelled by Markov Decision Processes (MDPs). Formally, an MDP is described by a tuple $(S, A, P, R)$, where at each timestep $t$ an\n",
        "agent interacting with the MDP observes a state $s_t \\in S$,\n",
        "and chooses an action $a_t \\in A$ which determines the reward\n",
        "$r_t \\sim R(s_t, a_t)$ and next state $s_{t+1} \\sim P(s_t, a_t)$. In environments where the agent cannot observe the fully underlying state, but only observations that may be arbitarily different from states, the MDP may be extended to a POMDP, described by a tuple $(S, A, P, R, Ω, O)$. The difference is that the agent receives observations $o ∈ Ω$ after each reward, and the underlying states $S$ are unknown to the agent."
      ]
    },
    {
      "cell_type": "markdown",
      "metadata": {
        "id": "SaEI2_GW4EAW"
      },
      "source": [
        "The Tiger problem is simple POMDP environment with the following dynamics.\n",
        "\n",
        "A tiger is put with equal probability behind one of two doors, while treasure is put behind the other one. You are standing in front of the two closed doors and need to decide which one to open. If you open the door with the tiger, you will get hurt (negative reward). But if you open the door with treasure, you receive a positive reward. Instead of opening a door right away, you also have the option to wait and listen for tiger noises. But listening is neither free nor entirely accurate. You might hear the tiger behind the left door while it is actually behind the right door and vice versa. (Kamalzadeh and Hahsler, 2021)\n",
        "\n",
        "The environment was such that opening the door resets the tiger to a random state, so the problem is continuing."
      ]
    },
    {
      "cell_type": "markdown",
      "metadata": {
        "id": "CM5UuMo948wn"
      },
      "source": [
        "Q-learning is a reinforcement learning algorithm for MDPs that learns the value of an action in a particular state, and finds an optimal policy in the sense of maximizing the expected value of the total reward over any and all successive steps. To deal with MDPs with large state spaces, Deep Q-learning (DQN) (Mnih et al., 2015) uses deep neural networks and Q-learning  to approximate and learn the action-state values $Q(s, a|θ)$. In POMDPs, however, the observation and the underlying states will be different, and estimating a Q-value from an observation can be arbitrarily bad. DRQN (Hausknecht and Stone, 2015) augments the DQN with a recurrent neural network to better estimate the correct action-states values $Q(o, a|θ) ∼ Q(s, a|θ)$. The performance of DRQN has not been studied extensively on benchmark POMDP problems."
      ]
    },
    {
      "cell_type": "markdown",
      "metadata": {
        "id": "YXVvg5Hd74hR"
      },
      "source": [
        "The following code implements DRQN, with replay memory, on the Tiger problem (from the library `pomdp_py`). The original DRQN model was simplified, and the model used consists only of a recurrent LSTM layer with 32 hidden units, connected to a fully connected output layer to the Q-values. The idea is that the LSTM learns a mapping from observation-action histories $(o,a)_{0:t}$ to the desired Q-values that give us the optimal policy.\n"
      ]
    },
    {
      "cell_type": "code",
      "metadata": {
        "id": "kZNfWv-bkZ3y"
      },
      "source": [
        "%%capture\n",
        "%%bash\n",
        "apt-get install -y graphviz-dev\n",
        "pip install pomdp-py"
      ],
      "execution_count": null,
      "outputs": []
    },
    {
      "cell_type": "code",
      "metadata": {
        "id": "8uiKn6AZlLJa"
      },
      "source": [
        "%matplotlib inline\n",
        "import numpy as np\n",
        "import matplotlib.pyplot as plt\n",
        "from collections import deque, namedtuple\n",
        "import pickle\n",
        "import random\n",
        "\n",
        "import torch.nn as nn\n",
        "import torch\n",
        "\n",
        "from pomdp_problems.tiger.tiger_problem import *"
      ],
      "execution_count": null,
      "outputs": []
    },
    {
      "cell_type": "code",
      "metadata": {
        "id": "BYUnu79slSTS"
      },
      "source": [
        "init_true_state = random.choice([TigerState(\"tiger-left\"),\n",
        "                                 TigerState(\"tiger-right\")])\n",
        "tiger_problem = TigerProblem(0.15, init_true_state, None)"
      ],
      "execution_count": null,
      "outputs": []
    },
    {
      "cell_type": "code",
      "metadata": {
        "id": "Ya0LO3WomVVt",
        "colab": {
          "base_uri": "https://localhost:8080/"
        },
        "outputId": "e4a95f76-f512-4d5f-b9dd-00c27fd3d665"
      },
      "source": [
        "state2vect = {'tiger-right': np.array([0, 1, 0]), 'tiger-left': np.array([1, 0, 0]), 'tiger-init': np.array([0, 0, 1])}\n",
        "\n",
        "actions = tiger_problem.agent.policy_model.get_all_actions()\n",
        "if TigerAction('stay') in actions:\n",
        "  actions.remove(TigerAction('stay'))\n",
        "\n",
        "int2action = {0: TigerAction('listen'), 1: TigerAction('open-left'), 2: TigerAction('open-right')}\n",
        "action2int = {v: k for k, v in int2action.items()}\n",
        "action2int"
      ],
      "execution_count": null,
      "outputs": [
        {
          "output_type": "execute_result",
          "data": {
            "text/plain": [
              "{TigerAction(listen): 0, TigerAction(open-left): 1, TigerAction(open-right): 2}"
            ]
          },
          "metadata": {
            "tags": []
          },
          "execution_count": 5
        }
      ]
    },
    {
      "cell_type": "markdown",
      "metadata": {
        "id": "qQ2XHCQ098Cm"
      },
      "source": [
        "Replay memory"
      ]
    },
    {
      "cell_type": "code",
      "metadata": {
        "id": "a_k86zfvouBr"
      },
      "source": [
        "class ReplayMemory(object):\n",
        "\n",
        "  def __init__(self, capacity):\n",
        "    self.memory = deque([],maxlen=capacity)\n",
        "    self.capacity = capacity\n",
        "\n",
        "  def push(self, episode):\n",
        "    self.memory.append(episode)\n",
        "\n",
        "  def sample(self, batch_size, time_step):\n",
        "    \"Bootstrapped Random Updates.\"\n",
        "    sampled_epsiodes = random.sample(self.memory,batch_size)\n",
        "    batch = []\n",
        "    for episode in sampled_epsiodes:\n",
        "        point = np.random.randint(0,len(episode)+1-time_step)\n",
        "        batch.append(episode[point:point+time_step])\n",
        "    return batch\n",
        "\n",
        "  def __len__(self):\n",
        "   return len(self.memory)"
      ],
      "execution_count": null,
      "outputs": []
    },
    {
      "cell_type": "markdown",
      "metadata": {
        "id": "0cXSCwq593G8"
      },
      "source": [
        "DRQN Model"
      ]
    },
    {
      "cell_type": "code",
      "metadata": {
        "colab": {
          "base_uri": "https://localhost:8080/"
        },
        "id": "XvXEljGdnXBD",
        "outputId": "3ca20058-ab1d-4159-e915-61217efaad0a"
      },
      "source": [
        "class DRQN(nn.Module):\n",
        "    \n",
        "    def __init__(self,input_size,out_size):\n",
        "        super(DRQN,self).__init__()\n",
        "        self.input_size = input_size\n",
        "        self.out_size = out_size\n",
        "        self.lstm_layer = nn.LSTM(input_size=3,hidden_size=32,num_layers=1,batch_first=True)\n",
        "        self.fc_out = nn.Linear(in_features=32,out_features=self.out_size)\n",
        "        self.relu = nn.ReLU()\n",
        "        \n",
        "    def forward(self,x,bsize,time_step,hidden_state,cell_state):\n",
        "        x = x.view(bsize, time_step, -1)\n",
        "        lstm_out = self.lstm_layer(x,(hidden_state,cell_state))\n",
        "        out = lstm_out[0]\n",
        "        h_n, c_n = lstm_out[1]\n",
        "        qout = self.fc_out(out)\n",
        "        return qout, (h_n,c_n)\n",
        "    \n",
        "    def init_hidden_states(self,bsize):\n",
        "        h = torch.zeros(1,bsize,32).float().to(device)\n",
        "        c = torch.zeros(1,bsize,32).float().to(device)\n",
        "        return h,c\n",
        "    \n",
        "device = torch.device('cuda' if torch.cuda.is_available() else 'cpu')\n",
        "print(device)\n",
        "main_model = DRQN(input_size=3,out_size=3).to(device)\n",
        "print(main_model)"
      ],
      "execution_count": null,
      "outputs": [
        {
          "output_type": "stream",
          "text": [
            "cpu\n",
            "DRQN(\n",
            "  (lstm_layer): LSTM(3, 32, batch_first=True)\n",
            "  (fc_out): Linear(in_features=32, out_features=3, bias=True)\n",
            "  (relu): ReLU()\n",
            ")\n"
          ],
          "name": "stdout"
        }
      ]
    },
    {
      "cell_type": "markdown",
      "metadata": {
        "id": "yU-K0cT6-KIV"
      },
      "source": [
        "Hyper-parameters"
      ]
    },
    {
      "cell_type": "code",
      "metadata": {
        "id": "upvqHEw0a8cG"
      },
      "source": [
        "BATCH_SIZE = 32\n",
        "TIME_STEP = 10\n",
        "GAMMA = 0.99\n",
        "INITIAL_EPSILON = 1.0\n",
        "FINAL_EPSILON = 0.1\n",
        "TOTAL_EPSIODES = 10000\n",
        "MAX_STEPS = 30\n",
        "MEMORY_SIZE = 3000\n",
        "UPDATE_FREQ = 5\n",
        "TARGET_UPDATE_FREQ = 500 "
      ],
      "execution_count": null,
      "outputs": []
    },
    {
      "cell_type": "code",
      "metadata": {
        "id": "9gGHjKvUplni"
      },
      "source": [
        "def validate(MAX_STEPS_valid=6):\n",
        "  hidden_state, cell_state = main_model.init_hidden_states(bsize=1)\n",
        "  reward_stat_valid = []\n",
        "  total_reward_valid = 0\n",
        "  MAX_STEPS_valid = MAX_STEPS_valid\n",
        "  true_state = random.choice([TigerState(\"tiger-left\"),TigerState(\"tiger-right\")])\n",
        "  step_count_valid = 0\n",
        "  print(\"Valid Episode\", episode+1, \"Step\", step_count_valid)\n",
        "  print(\"True state\", true_state)\n",
        "  processed_prev_state = state2vect['tiger-init'].astype(np.float64)\n",
        "  with torch.no_grad():\n",
        "    while step_count_valid < MAX_STEPS_valid:\n",
        "      step_count_valid +=1\n",
        "      with torch.no_grad():\n",
        "        torch_x = torch.from_numpy(processed_prev_state).float().to(device)\n",
        "        model_out = main_model.forward(torch_x,bsize=1,time_step=1,hidden_state=hidden_state,cell_state=cell_state)\n",
        "        out = model_out[0]\n",
        "        action = int(torch.argmax(out[0]))\n",
        "        action = int2action[action]\n",
        "      print(action.name)\n",
        "      hidden_state = model_out[1][0]\n",
        "      cell_state = model_out[1][1]\n",
        "      next_state = ObservationModel().sample(true_state, action)\n",
        "      next_state = TigerState(next_state.name)\n",
        "      if action.name != \"listen\":\n",
        "          processed_next_state = state2vect['tiger-init']\n",
        "      else:\n",
        "          processed_next_state = state2vect[next_state.name]       \n",
        "      print(next_state)\n",
        "      reward = RewardModel().sample(true_state, action, None)\n",
        "      total_reward_valid += reward\n",
        "      print(reward)\n",
        "      if action.name != \"listen\":\n",
        "          true_state = next_state\n",
        "          print(\"true state\", true_state)\n",
        "\n",
        "      processed_prev_state = processed_next_state\n",
        "          \n",
        "  reward_stat_valid.append(total_reward_valid)\n",
        "  print(\"\\n\")"
      ],
      "execution_count": null,
      "outputs": []
    },
    {
      "cell_type": "code",
      "metadata": {
        "id": "tWWlpgGM15re"
      },
      "source": [
        "def optimize_model():\n",
        "  if len(mem) < BATCH_SIZE:\n",
        "    return\n",
        "\n",
        "  hidden_batch, cell_batch = main_model.init_hidden_states(bsize=BATCH_SIZE)\n",
        "  \n",
        "  batch = mem.sample(BATCH_SIZE,TIME_STEP)\n",
        "  \n",
        "  current_states = []\n",
        "  acts = []\n",
        "  rewards = []\n",
        "  next_states = []\n",
        "  \n",
        "  for b in batch:\n",
        "      cs,ac,rw,ns = [],[],[],[]\n",
        "      for element in b:\n",
        "          cs.append(element[0])\n",
        "          ac.append(element[1])\n",
        "          rw.append(element[2])\n",
        "          ns.append(element[3])\n",
        "      current_states.append(cs)\n",
        "      acts.append(ac)\n",
        "      rewards.append(rw)\n",
        "      next_states.append(ns)\n",
        "  \n",
        "  current_states = np.array(current_states).astype(np.float64)\n",
        "  acts = np.array(acts).astype(np.float64)\n",
        "  rewards = np.array(rewards).astype(np.float64)\n",
        "  next_states = np.array(next_states).astype(np.float64)\n",
        "  \n",
        "  torch_current_states = torch.from_numpy(current_states).float().to(device)\n",
        "  torch_acts = torch.from_numpy(acts).long().to(device)\n",
        "  torch_rewards = torch.from_numpy(rewards).float().to(device)\n",
        "  torch_next_states = torch.from_numpy(next_states).float().to(device)\n",
        "  \n",
        "  Q_next,_ = target_model.forward(torch_next_states,bsize=BATCH_SIZE,time_step=TIME_STEP,hidden_state=hidden_batch,cell_state=cell_batch)\n",
        "  Q_next_max,__ = Q_next.detach().max(dim=2)\n",
        "  target_values = torch_rewards + (GAMMA * Q_next_max)\n",
        "    \n",
        "  Q_s, _ = main_model.forward(torch_current_states,bsize=BATCH_SIZE,time_step=TIME_STEP,hidden_state=hidden_batch,cell_state=cell_batch)\n",
        "  Q_s_a = Q_s.gather(dim=2,index=torch_acts.unsqueeze(dim=2)).squeeze()\n",
        "  \n",
        "  loss = criterion(Q_s_a,target_values)\n",
        "  loss_stat.append(loss.item())\n",
        "  optimizer.zero_grad()\n",
        "  loss.backward()\n",
        "  nn.utils.clip_grad_value_(main_model.lstm_layer._parameters.values(), 10)   \n",
        "  optimizer.step()\n"
      ],
      "execution_count": null,
      "outputs": []
    },
    {
      "cell_type": "code",
      "metadata": {
        "id": "vHgKVc8XR-PG"
      },
      "source": [
        "main_model = DRQN(input_size=3,out_size=3).float().to(device)\n",
        "target_model = DRQN(input_size=3,out_size=3).float().to(device)\n",
        "target_model.load_state_dict(main_model.state_dict())\n",
        "criterion = nn.SmoothL1Loss()\n",
        "optimizer = torch.optim.Adam(main_model.parameters(),lr=0.00025)\n",
        "\n",
        "mem = ReplayMemory(MEMORY_SIZE)"
      ],
      "execution_count": null,
      "outputs": []
    },
    {
      "cell_type": "markdown",
      "metadata": {
        "id": "tqQ-rFCv-ObF"
      },
      "source": [
        "# Training the model"
      ]
    },
    {
      "cell_type": "code",
      "metadata": {
        "id": "e0Tpp2FF23gf",
        "colab": {
          "base_uri": "https://localhost:8080/"
        },
        "outputId": "330130af-716e-42a3-b93e-a243616b89a8"
      },
      "source": [
        "epsilon = INITIAL_EPSILON\n",
        "loss_stat = []\n",
        "reward_stat = []\n",
        "total_steps = 0\n",
        "\n",
        "for episode in range(0,TOTAL_EPSIODES):\n",
        "    \n",
        "    true_state = random.choice([TigerState(\"tiger-left\"),TigerState(\"tiger-right\")])\n",
        "    processed_prev_state = state2vect['tiger-init'].astype(np.float64)\n",
        "    total_reward = 0\n",
        "    step_count = 0\n",
        "    local_memory = []\n",
        "\n",
        "    hidden_state, cell_state = main_model.init_hidden_states(bsize=1)\n",
        "    \n",
        "    while step_count < MAX_STEPS:\n",
        "        \n",
        "        step_count +=1\n",
        "        total_steps +=1\n",
        "        \n",
        "        if np.random.rand(1) < epsilon:\n",
        "            torch_x = torch.from_numpy(processed_prev_state).float().to(device)\n",
        "            model_out = main_model.forward(torch_x,bsize=1,time_step=1,hidden_state=hidden_state,cell_state=cell_state)\n",
        "            action = random.sample(actions,1)[0]\n",
        "            hidden_state = model_out[1][0]\n",
        "            cell_state = model_out[1][1]\n",
        "            \n",
        "        else:\n",
        "            torch_x = torch.from_numpy(processed_prev_state).float().to(device)\n",
        "            model_out = main_model.forward(torch_x,bsize=1,time_step=1,hidden_state=hidden_state,cell_state=cell_state)\n",
        "            out = model_out[0]\n",
        "            action = int(torch.argmax(out[0]))\n",
        "            action = int2action[action]\n",
        "            hidden_state = model_out[1][0]\n",
        "            cell_state = model_out[1][1]\n",
        "        \n",
        "        next_state = ObservationModel().sample(true_state, action)\n",
        "        next_state = TigerState(next_state.name)\n",
        "        reward = RewardModel().sample(true_state, action, None)/100\n",
        "\n",
        "        if action.name != \"listen\":\n",
        "          processed_next_state = state2vect['tiger-init']\n",
        "        else:\n",
        "          processed_next_state = state2vect[next_state.name]\n",
        "        \n",
        "        local_memory.append((processed_prev_state,action2int[action],reward,processed_next_state))\n",
        "\n",
        "        if action.name != \"listen\":\n",
        "          true_state = next_state\n",
        "        processed_prev_state = processed_next_state\n",
        "        action = action2int[action]\n",
        "        \n",
        "        if (total_steps % TARGET_UPDATE_FREQ) == 0:\n",
        "            target_model.load_state_dict(main_model.state_dict())\n",
        "       \n",
        "        if (total_steps % UPDATE_FREQ) == 0: # Update every 5 steps\n",
        "            optimize_model()  \n",
        "\n",
        "    reward_stat.append(total_reward)\n",
        "    \n",
        "    mem.push(local_memory)\n",
        "\n",
        "    if epsilon > FINAL_EPSILON:\n",
        "        epsilon -= (INITIAL_EPSILON - FINAL_EPSILON)/TOTAL_EPSIODES\n",
        "\n",
        "    if (episode+1) % (TOTAL_EPSIODES/10) == 0:\n",
        "        validate()\n",
        "        diff_network_optimal()"
      ],
      "execution_count": null,
      "outputs": [
        {
          "output_type": "stream",
          "text": [
            "Valid Episode 1000 Step 0\n",
            "True state tiger-right\n",
            "listen\n",
            "tiger-right\n",
            "-1\n",
            "listen\n",
            "tiger-right\n",
            "-1\n",
            "open-left\n",
            "tiger-right\n",
            "10\n",
            "true state tiger-right\n",
            "listen\n",
            "tiger-right\n",
            "-1\n",
            "listen\n",
            "tiger-right\n",
            "-1\n",
            "listen\n",
            "tiger-left\n",
            "-1\n",
            "\n",
            "\n",
            "2.222\n",
            "Valid Episode 2000 Step 0\n",
            "True state tiger-left\n",
            "listen\n",
            "tiger-left\n",
            "-1\n",
            "listen\n",
            "tiger-right\n",
            "-1\n",
            "listen\n",
            "tiger-left\n",
            "-1\n",
            "listen\n",
            "tiger-left\n",
            "-1\n",
            "listen\n",
            "tiger-left\n",
            "-1\n",
            "listen\n",
            "tiger-left\n",
            "-1\n",
            "\n",
            "\n",
            "1.237\n",
            "Valid Episode 3000 Step 0\n",
            "True state tiger-right\n",
            "listen\n",
            "tiger-right\n",
            "-1\n",
            "listen\n",
            "tiger-right\n",
            "-1\n",
            "open-left\n",
            "tiger-right\n",
            "10\n",
            "true state tiger-right\n",
            "listen\n",
            "tiger-right\n",
            "-1\n",
            "listen\n",
            "tiger-right\n",
            "-1\n",
            "open-left\n",
            "tiger-right\n",
            "10\n",
            "true state tiger-right\n",
            "\n",
            "\n",
            "0.827\n",
            "Valid Episode 4000 Step 0\n",
            "True state tiger-right\n",
            "listen\n",
            "tiger-right\n",
            "-1\n",
            "listen\n",
            "tiger-right\n",
            "-1\n",
            "open-left\n",
            "tiger-right\n",
            "10\n",
            "true state tiger-right\n",
            "listen\n",
            "tiger-right\n",
            "-1\n",
            "listen\n",
            "tiger-right\n",
            "-1\n",
            "open-left\n",
            "tiger-left\n",
            "10\n",
            "true state tiger-left\n",
            "\n",
            "\n",
            "1.974\n",
            "Valid Episode 5000 Step 0\n",
            "True state tiger-left\n",
            "listen\n",
            "tiger-left\n",
            "-1\n",
            "listen\n",
            "tiger-left\n",
            "-1\n",
            "open-right\n",
            "tiger-left\n",
            "10\n",
            "true state tiger-left\n",
            "listen\n",
            "tiger-left\n",
            "-1\n",
            "listen\n",
            "tiger-left\n",
            "-1\n",
            "open-right\n",
            "tiger-left\n",
            "10\n",
            "true state tiger-left\n",
            "\n",
            "\n",
            "0.053\n",
            "Valid Episode 6000 Step 0\n",
            "True state tiger-right\n",
            "listen\n",
            "tiger-right\n",
            "-1\n",
            "listen\n",
            "tiger-left\n",
            "-1\n",
            "listen\n",
            "tiger-left\n",
            "-1\n",
            "listen\n",
            "tiger-right\n",
            "-1\n",
            "listen\n",
            "tiger-right\n",
            "-1\n",
            "listen\n",
            "tiger-right\n",
            "-1\n",
            "\n",
            "\n",
            "1.866\n",
            "Valid Episode 7000 Step 0\n",
            "True state tiger-right\n",
            "listen\n",
            "tiger-right\n",
            "-1\n",
            "listen\n",
            "tiger-right\n",
            "-1\n",
            "open-left\n",
            "tiger-right\n",
            "10\n",
            "true state tiger-right\n",
            "listen\n",
            "tiger-right\n",
            "-1\n",
            "listen\n",
            "tiger-right\n",
            "-1\n",
            "open-left\n",
            "tiger-left\n",
            "10\n",
            "true state tiger-left\n",
            "\n",
            "\n",
            "0.155\n",
            "Valid Episode 8000 Step 0\n",
            "True state tiger-left\n",
            "listen\n",
            "tiger-left\n",
            "-1\n",
            "listen\n",
            "tiger-left\n",
            "-1\n",
            "open-right\n",
            "tiger-left\n",
            "10\n",
            "true state tiger-left\n",
            "listen\n",
            "tiger-left\n",
            "-1\n",
            "listen\n",
            "tiger-left\n",
            "-1\n",
            "open-right\n",
            "tiger-left\n",
            "10\n",
            "true state tiger-left\n",
            "\n",
            "\n",
            "0.0\n",
            "Valid Episode 9000 Step 0\n",
            "True state tiger-right\n",
            "listen\n",
            "tiger-right\n",
            "-1\n",
            "listen\n",
            "tiger-right\n",
            "-1\n",
            "open-left\n",
            "tiger-right\n",
            "10\n",
            "true state tiger-right\n",
            "listen\n",
            "tiger-left\n",
            "-1\n",
            "listen\n",
            "tiger-right\n",
            "-1\n",
            "listen\n",
            "tiger-right\n",
            "-1\n",
            "\n",
            "\n",
            "1.477\n",
            "Valid Episode 10000 Step 0\n",
            "True state tiger-left\n",
            "listen\n",
            "tiger-right\n",
            "-1\n",
            "listen\n",
            "tiger-right\n",
            "-1\n",
            "open-left\n",
            "tiger-right\n",
            "-100\n",
            "true state tiger-right\n",
            "listen\n",
            "tiger-right\n",
            "-1\n",
            "listen\n",
            "tiger-right\n",
            "-1\n",
            "open-left\n",
            "tiger-right\n",
            "10\n",
            "true state tiger-right\n",
            "\n",
            "\n",
            "0.0\n"
          ],
          "name": "stdout"
        }
      ]
    },
    {
      "cell_type": "code",
      "metadata": {
        "colab": {
          "base_uri": "https://localhost:8080/",
          "height": 284
        },
        "id": "--PZiHCVigei",
        "outputId": "d46b6200-dcbe-4e08-d28b-9d84df9800dc"
      },
      "source": [
        "plt.plot(loss_stat)"
      ],
      "execution_count": null,
      "outputs": [
        {
          "output_type": "execute_result",
          "data": {
            "text/plain": [
              "[<matplotlib.lines.Line2D at 0x7fb0a11a6650>]"
            ]
          },
          "metadata": {
            "tags": []
          },
          "execution_count": 29
        },
        {
          "output_type": "display_data",
          "data": {
            "image/png": "[encoded data removed]",
            "text/plain": [
              "<Figure size 432x288 with 1 Axes>"
            ]
          },
          "metadata": {
            "tags": [],
            "needs_background": "light"
          }
        }
      ]
    },
    {
      "cell_type": "markdown",
      "metadata": {
        "id": "JOKI7PNBlDlr"
      },
      "source": [
        "# Testing the model"
      ]
    },
    {
      "cell_type": "code",
      "metadata": {
        "id": "rOcb2g9amJ_f"
      },
      "source": [
        "def test_network(MAX_STEPS=6):\n",
        "  TOTAL_EPSIODES = 1000\n",
        "  loss_stat = []\n",
        "  reward_stat = []\n",
        "  total_steps = 0\n",
        "  MAX_STEPS = MAX_STEPS\n",
        "\n",
        "  for episode in range(0,TOTAL_EPSIODES):\n",
        "      \n",
        "      true_state = random.choice([TigerState(\"tiger-left\"),TigerState(\"tiger-right\")])\n",
        "      processed_prev_state = state2vect['tiger-init'].astype(np.float64)\n",
        "      total_reward = 0\n",
        "      step_count = 0\n",
        "\n",
        "      hidden_state, cell_state = main_model.init_hidden_states(bsize=1)\n",
        "\n",
        "      while step_count < MAX_STEPS:\n",
        "          \n",
        "          step_count +=1\n",
        "          total_steps +=1\n",
        "\n",
        "          with torch.no_grad():\n",
        "            torch_x = torch.from_numpy(processed_prev_state).float().to(device)\n",
        "            model_out = main_model.forward(torch_x,bsize=1,time_step=1,hidden_state=hidden_state,cell_state=cell_state)\n",
        "            out = model_out[0]\n",
        "            action = int(torch.argmax(out[0]))\n",
        "            action = int2action[action]\n",
        "\n",
        "          hidden_state = model_out[1][0]\n",
        "          cell_state = model_out[1][1]\n",
        "\n",
        "          next_state = ObservationModel().sample(true_state, action)\n",
        "          next_state = TigerState(next_state.name)\n",
        "          reward = RewardModel().sample(true_state, action, None)\n",
        "          total_reward += reward\n",
        "\n",
        "          if action.name != \"listen\":\n",
        "            processed_next_state = state2vect['tiger-init']\n",
        "            true_state = next_state\n",
        "          else:\n",
        "            processed_next_state = state2vect[next_state.name]       \n",
        "\n",
        "          processed_prev_state = processed_next_state\n",
        "              \n",
        "      reward_stat.append(total_reward)\n",
        "  return np.mean(reward_stat)\n"
      ],
      "execution_count": null,
      "outputs": []
    },
    {
      "cell_type": "markdown",
      "metadata": {
        "id": "PYYJH6Iz_wxN"
      },
      "source": [
        "Test the network for 10 timesteps, and plot the mean reward."
      ]
    },
    {
      "cell_type": "code",
      "metadata": {
        "colab": {
          "base_uri": "https://localhost:8080/",
          "height": 284
        },
        "id": "s1ldO041_ppX",
        "outputId": "4064ca29-a566-4310-9174-68c0bd3dbe64"
      },
      "source": [
        "avg = [test_network(10) for i in range(100)]\n",
        "plt.plot(avg)\n",
        "print(np.mean(avg), np.std(avg))"
      ],
      "execution_count": null,
      "outputs": [
        {
          "output_type": "stream",
          "text": [
            "8.04396 0.9177013557797546\n"
          ],
          "name": "stdout"
        },
        {
          "output_type": "display_data",
          "data": {
            "image/png": "[encoded data removed]",
            "text/plain": [
              "<Figure size 432x288 with 1 Axes>"
            ]
          },
          "metadata": {
            "tags": [],
            "needs_background": "light"
          }
        }
      ]
    },
    {
      "cell_type": "markdown",
      "metadata": {
        "id": "arVTX7B6-doF"
      },
      "source": [
        "The optimal policy for the Tiger problem with observation noise $p=0.15$ is to listen until the tiger is observed twice more on one side \n",
        "than the other, at which point you choose to open (Cassandra et al., 1994)."
      ]
    },
    {
      "cell_type": "code",
      "metadata": {
        "id": "0_nvsez_u-Ui"
      },
      "source": [
        "def test_optimal(MAX_STEPS=6):\n",
        "  TOTAL_EPSIODES = 1000\n",
        "  loss_stat = []\n",
        "  reward_stat = []\n",
        "  total_steps = 0\n",
        "  MAX_STEPS = MAX_STEPS\n",
        "\n",
        "  for episode in range(0,TOTAL_EPSIODES):\n",
        "      \n",
        "      true_state = random.choice([TigerState(\"tiger-left\"),TigerState(\"tiger-right\")])\n",
        "      processed_prev_state = state2vect['tiger-init'].astype(np.float64)\n",
        "      total_reward = 0\n",
        "      step_count = 0\n",
        "      \n",
        "      hidden_state, cell_state = main_model.init_hidden_states(bsize=1)\n",
        "      left_count = 0\n",
        "      right_count = 0\n",
        "      while step_count < MAX_STEPS:\n",
        "          \n",
        "          step_count +=1\n",
        "          total_steps +=1\n",
        "          hidden_state = model_out[1][0]\n",
        "          cell_state = model_out[1][1]\n",
        "          \n",
        "          if left_count - right_count == 2:\n",
        "            action = TigerAction(\"open-right\")\n",
        "          elif right_count - left_count ==2:\n",
        "            action = TigerAction(\"open-left\")\n",
        "          else:\n",
        "            action = TigerAction(\"listen\")\n",
        "\n",
        "          next_state = ObservationModel().sample(true_state, action)\n",
        "          next_state = TigerState(next_state.name)\n",
        "          reward = RewardModel().sample(true_state, action, None)\n",
        "          total_reward += reward\n",
        "\n",
        "          if next_state.name == \"tiger-left\":\n",
        "            left_count +=1\n",
        "          else:\n",
        "            right_count += 1\n",
        "\n",
        "\n",
        "          if action.name != \"listen\":\n",
        "            left_count = 0\n",
        "            right_count = 0\n",
        "            true_state = next_state\n",
        "\n",
        "          if action.name != \"listen\":\n",
        "            processed_next_state = state2vect['tiger-init']\n",
        "            true_state = next_state\n",
        "          else:\n",
        "            processed_next_state = state2vect[next_state.name]       \n",
        "          \n",
        "          processed_prev_state = processed_next_state\n",
        "              \n",
        "      reward_stat.append(total_reward)\n",
        "  return np.mean(reward_stat)\n"
      ],
      "execution_count": null,
      "outputs": []
    },
    {
      "cell_type": "markdown",
      "metadata": {
        "id": "l0U6yAW__3Ye"
      },
      "source": [
        "Here, we observe that the average reward for the optimal policy is similar to the learnt policy."
      ]
    },
    {
      "cell_type": "code",
      "metadata": {
        "colab": {
          "base_uri": "https://localhost:8080/",
          "height": 284
        },
        "id": "TFfvoYziKxIU",
        "outputId": "0425728b-9e0a-45b8-86fa-6edf6f782937"
      },
      "source": [
        "avg = [test_optimal(10) for i in range(100)]\n",
        "plt.plot(avg)\n",
        "print(np.mean(avg), np.std(avg))"
      ],
      "execution_count": null,
      "outputs": [
        {
          "output_type": "stream",
          "text": [
            "8.10237 0.9981008130945491\n"
          ],
          "name": "stdout"
        },
        {
          "output_type": "display_data",
          "data": {
            "image/png": "[encoded data removed]",
            "text/plain": [
              "<Figure size 432x288 with 1 Axes>"
            ]
          },
          "metadata": {
            "tags": [],
            "needs_background": "light"
          }
        }
      ]
    },
    {
      "cell_type": "markdown",
      "metadata": {
        "id": "zyPyw_gJAP_t"
      },
      "source": [
        "Inspectig the learnt policy gives us confidence that it is the optimal policy."
      ]
    },
    {
      "cell_type": "code",
      "metadata": {
        "colab": {
          "base_uri": "https://localhost:8080/"
        },
        "id": "EK47R-x-pjTC",
        "outputId": "6fcfeb08-6705-44e2-daed-af8e5903345c"
      },
      "source": [
        "for i in range(10):\n",
        "  episode = i\n",
        "  validate()"
      ],
      "execution_count": null,
      "outputs": [
        {
          "output_type": "stream",
          "text": [
            "Valid Episode 1 Step 0\n",
            "True state tiger-left\n",
            "listen\n",
            "tiger-right\n",
            "-1\n",
            "listen\n",
            "tiger-left\n",
            "-1\n",
            "listen\n",
            "tiger-left\n",
            "-1\n",
            "listen\n",
            "tiger-left\n",
            "-1\n",
            "open-right\n",
            "tiger-left\n",
            "10\n",
            "true state tiger-left\n",
            "listen\n",
            "tiger-left\n",
            "-1\n",
            "\n",
            "\n",
            "Valid Episode 2 Step 0\n",
            "True state tiger-left\n",
            "listen\n",
            "tiger-left\n",
            "-1\n",
            "listen\n",
            "tiger-left\n",
            "-1\n",
            "open-right\n",
            "tiger-right\n",
            "10\n",
            "true state tiger-right\n",
            "listen\n",
            "tiger-right\n",
            "-1\n",
            "listen\n",
            "tiger-left\n",
            "-1\n",
            "listen\n",
            "tiger-right\n",
            "-1\n",
            "\n",
            "\n",
            "Valid Episode 3 Step 0\n",
            "True state tiger-left\n",
            "listen\n",
            "tiger-left\n",
            "-1\n",
            "listen\n",
            "tiger-left\n",
            "-1\n",
            "open-right\n",
            "tiger-right\n",
            "10\n",
            "true state tiger-right\n",
            "listen\n",
            "tiger-right\n",
            "-1\n",
            "listen\n",
            "tiger-right\n",
            "-1\n",
            "open-left\n",
            "tiger-left\n",
            "10\n",
            "true state tiger-left\n",
            "\n",
            "\n",
            "Valid Episode 4 Step 0\n",
            "True state tiger-right\n",
            "listen\n",
            "tiger-right\n",
            "-1\n",
            "listen\n",
            "tiger-right\n",
            "-1\n",
            "open-left\n",
            "tiger-right\n",
            "10\n",
            "true state tiger-right\n",
            "listen\n",
            "tiger-right\n",
            "-1\n",
            "listen\n",
            "tiger-right\n",
            "-1\n",
            "open-left\n",
            "tiger-right\n",
            "10\n",
            "true state tiger-right\n",
            "\n",
            "\n",
            "Valid Episode 5 Step 0\n",
            "True state tiger-left\n",
            "listen\n",
            "tiger-right\n",
            "-1\n",
            "listen\n",
            "tiger-left\n",
            "-1\n",
            "listen\n",
            "tiger-right\n",
            "-1\n",
            "listen\n",
            "tiger-left\n",
            "-1\n",
            "listen\n",
            "tiger-right\n",
            "-1\n",
            "listen\n",
            "tiger-left\n",
            "-1\n",
            "\n",
            "\n",
            "Valid Episode 6 Step 0\n",
            "True state tiger-right\n",
            "listen\n",
            "tiger-right\n",
            "-1\n",
            "listen\n",
            "tiger-right\n",
            "-1\n",
            "open-left\n",
            "tiger-right\n",
            "10\n",
            "true state tiger-right\n",
            "listen\n",
            "tiger-right\n",
            "-1\n",
            "listen\n",
            "tiger-left\n",
            "-1\n",
            "listen\n",
            "tiger-right\n",
            "-1\n",
            "\n",
            "\n",
            "Valid Episode 7 Step 0\n",
            "True state tiger-right\n",
            "listen\n",
            "tiger-left\n",
            "-1\n",
            "listen\n",
            "tiger-right\n",
            "-1\n",
            "listen\n",
            "tiger-right\n",
            "-1\n",
            "listen\n",
            "tiger-left\n",
            "-1\n",
            "listen\n",
            "tiger-right\n",
            "-1\n",
            "listen\n",
            "tiger-right\n",
            "-1\n",
            "\n",
            "\n",
            "Valid Episode 8 Step 0\n",
            "True state tiger-left\n",
            "listen\n",
            "tiger-left\n",
            "-1\n",
            "listen\n",
            "tiger-left\n",
            "-1\n",
            "open-right\n",
            "tiger-left\n",
            "10\n",
            "true state tiger-left\n",
            "listen\n",
            "tiger-left\n",
            "-1\n",
            "listen\n",
            "tiger-left\n",
            "-1\n",
            "open-right\n",
            "tiger-left\n",
            "10\n",
            "true state tiger-left\n",
            "\n",
            "\n",
            "Valid Episode 9 Step 0\n",
            "True state tiger-right\n",
            "listen\n",
            "tiger-right\n",
            "-1\n",
            "listen\n",
            "tiger-left\n",
            "-1\n",
            "listen\n",
            "tiger-right\n",
            "-1\n",
            "listen\n",
            "tiger-right\n",
            "-1\n",
            "open-left\n",
            "tiger-left\n",
            "10\n",
            "true state tiger-left\n",
            "listen\n",
            "tiger-right\n",
            "-1\n",
            "\n",
            "\n",
            "Valid Episode 10 Step 0\n",
            "True state tiger-right\n",
            "listen\n",
            "tiger-left\n",
            "-1\n",
            "listen\n",
            "tiger-right\n",
            "-1\n",
            "listen\n",
            "tiger-right\n",
            "-1\n",
            "listen\n",
            "tiger-right\n",
            "-1\n",
            "open-left\n",
            "tiger-left\n",
            "10\n",
            "true state tiger-left\n",
            "listen\n",
            "tiger-right\n",
            "-1\n",
            "\n",
            "\n"
          ],
          "name": "stdout"
        }
      ]
    },
    {
      "cell_type": "markdown",
      "metadata": {
        "id": "cHC-Y3zwAAp0"
      },
      "source": [
        "In fact, we can show that the learnt policy is optimal up to 10 time steps."
      ]
    },
    {
      "cell_type": "code",
      "metadata": {
        "id": "L4opgXtfE_gZ"
      },
      "source": [
        "def diff_network_optimal(MAX_STEPS=10):\n",
        "  TOTAL_EPSIODES = 1000\n",
        "  loss_stat = []\n",
        "  reward_stat = []\n",
        "  total_steps = 0\n",
        "  diff = 0\n",
        "  MAX_STEPS = MAX_STEPS\n",
        "\n",
        "  for episode in range(0,TOTAL_EPSIODES):\n",
        "      \n",
        "      true_state = random.choice([TigerState(\"tiger-left\"),TigerState(\"tiger-right\")])\n",
        "      processed_prev_state = state2vect['tiger-init'].astype(np.float64)\n",
        "      total_reward = 0\n",
        "      step_count = 0\n",
        "      \n",
        "      hidden_state, cell_state = main_model.init_hidden_states(bsize=1)\n",
        "      left_count = 0\n",
        "      right_count = 0\n",
        "      while step_count < MAX_STEPS:\n",
        "          \n",
        "          step_count +=1\n",
        "          total_steps +=1\n",
        "          \n",
        "          if left_count - right_count == 2:\n",
        "            action_op = TigerAction(\"open-right\")\n",
        "          elif right_count - left_count ==2:\n",
        "            action_op = TigerAction(\"open-left\")\n",
        "          else:\n",
        "            action_op = TigerAction(\"listen\")\n",
        "\n",
        "          with torch.no_grad():\n",
        "            torch_x = torch.from_numpy(processed_prev_state).float().to(device)\n",
        "            model_out = main_model.forward(torch_x,bsize=1,time_step=1,hidden_state=hidden_state,cell_state=cell_state)\n",
        "            out = model_out[0]\n",
        "            action = int(torch.argmax(out[0]))\n",
        "            action = int2action[action]\n",
        "\n",
        "          if action_op.name != action.name:\n",
        "            diff += 1\n",
        "\n",
        "          hidden_state = model_out[1][0]\n",
        "          cell_state = model_out[1][1]\n",
        "\n",
        "          next_state = ObservationModel().sample(true_state, action)\n",
        "          next_state = TigerState(next_state.name)\n",
        "          reward = RewardModel().sample(true_state, action, None)\n",
        "          total_reward += reward\n",
        "\n",
        "          if next_state.name == \"tiger-left\":\n",
        "            left_count +=1\n",
        "          else:\n",
        "            right_count += 1\n",
        "\n",
        "          if action.name != \"listen\":\n",
        "            left_count = 0\n",
        "            right_count = 0\n",
        "            true_state = next_state\n",
        "\n",
        "          if action.name != \"listen\":\n",
        "            processed_next_state = state2vect['tiger-init']\n",
        "            true_state = next_state\n",
        "          else:\n",
        "            processed_next_state = state2vect[next_state.name]       \n",
        "          \n",
        "          processed_prev_state = processed_next_state\n",
        "              \n",
        "      reward_stat.append(total_reward)\n",
        "  print(diff)\n",
        "  return diff\n"
      ],
      "execution_count": null,
      "outputs": []
    },
    {
      "cell_type": "code",
      "metadata": {
        "id": "5pgdeMoFkr_5"
      },
      "source": [
        "np.sum(np.array([diff_network_optimal() for i in range(100)]))/100"
      ],
      "execution_count": null,
      "outputs": []
    },
    {
      "cell_type": "markdown",
      "metadata": {
        "id": "po6OLYGpIAap"
      },
      "source": [
        "It was verified that the learnt policy is the optimal policy, up to 20 timesteps."
      ]
    },
    {
      "cell_type": "code",
      "metadata": {
        "colab": {
          "base_uri": "https://localhost:8080/"
        },
        "id": "RTpoT8NEIDG2",
        "outputId": "9ff9b896-be11-4a97-95d2-b476ea79feaf"
      },
      "source": [
        "diff_network_optimal(20)"
      ],
      "execution_count": null,
      "outputs": [
        {
          "output_type": "stream",
          "text": [
            "0\n"
          ],
          "name": "stdout"
        },
        {
          "output_type": "execute_result",
          "data": {
            "text/plain": [
              "0"
            ]
          },
          "metadata": {
            "tags": []
          },
          "execution_count": 45
        }
      ]
    },
    {
      "cell_type": "code",
      "metadata": {
        "colab": {
          "base_uri": "https://localhost:8080/",
          "height": 287
        },
        "id": "2D4johq5IW_J",
        "outputId": "09650c14-3fdf-445a-e8ac-ec412ec0a18f"
      },
      "source": [
        "avg = [test_network(20) for i in range(100)]\n",
        "plt.plot(avg)\n",
        "print(np.mean(avg), np.std(avg))"
      ],
      "execution_count": null,
      "outputs": [
        {
          "output_type": "stream",
          "text": [
            "19.15032 1.3645962471002182\n"
          ],
          "name": "stdout"
        },
        {
          "output_type": "display_data",
          "data": {
            "image/png": "[encoded data removed]",
            "text/plain": [
              "<Figure size 432x288 with 1 Axes>"
            ]
          },
          "metadata": {
            "tags": [],
            "needs_background": "light"
          }
        }
      ]
    },
    {
      "cell_type": "code",
      "metadata": {
        "colab": {
          "base_uri": "https://localhost:8080/",
          "height": 284
        },
        "id": "v_iY9fVZIGh5",
        "outputId": "bfa653b0-61ad-469f-ba9b-803268ed49e9"
      },
      "source": [
        "avg = [test_optimal(20) for i in range(100)]\n",
        "plt.plot(avg)\n",
        "print(np.mean(avg), np.std(avg))"
      ],
      "execution_count": null,
      "outputs": [
        {
          "output_type": "stream",
          "text": [
            "19.428729999999998 1.483443911005738\n"
          ],
          "name": "stdout"
        },
        {
          "output_type": "display_data",
          "data": {
            "image/png": "[encoded data removed]",
            "text/plain": [
              "<Figure size 432x288 with 1 Axes>"
            ]
          },
          "metadata": {
            "tags": [],
            "needs_background": "light"
          }
        }
      ]
    },
    {
      "cell_type": "markdown",
      "metadata": {
        "id": "lG32BdPzBmBp"
      },
      "source": [
        "**References**\n",
        "\n",
        "\n",
        "*    Hahsler, Michael., Kamalzadeh, Hossein. 2021. \"POMDP: Introduction to Partially Observable Markov Decision Processes\".\n",
        "*   Cassandra, Anthony R., Leslie Pack Kaelbling, and Michael L. Littman. 1994. “Acting Optimally in Partially Observable Stochastic Domains.” In Proceedings of the Twelfth National Conference on Artificial Intelligence. Seattle, WA.\n",
        "*    Mnih, V., Kavukcuoglu, K., Silver, D. et al. Human-level control through deep reinforcement learning. Nature 518, 529–533 (2015). \n",
        "*    Hausknecht, M., & Stone, P. (2015, September). Deep recurrent q-learning for partially observable mdps. In 2015 aaai fall symposium series.\n",
        "\n",
        "\n"
      ]
    }
  ]
}